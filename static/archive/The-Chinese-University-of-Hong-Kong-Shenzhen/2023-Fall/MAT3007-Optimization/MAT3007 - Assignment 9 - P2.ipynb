{
 "cells": [
  {
   "cell_type": "code",
   "execution_count": 5,
   "metadata": {},
   "outputs": [
    {
     "name": "stdout",
     "output_type": "stream",
     "text": [
      "Objective value: 141.66666666666669 with pair (x, y) = 8.333333333333334 0.0\n"
     ]
    }
   ],
   "source": [
    "from scipy.optimize import linprog\n",
    "import numpy as np\n",
    "\n",
    "c = [-17, -12]\n",
    "A = [[3, 4], [-2, 1]]\n",
    "b = [25, -2]\n",
    "\n",
    "x_bounds, y_bounds = (0, None), (0, None)\n",
    "result = linprog(c, A_ub=A, b_ub=b, bounds=[x_bounds, y_bounds], method='highs')\n",
    "\n",
    "print(\"Objective value:\", -result.fun, \"with pair (x, y) =\", result.x[0], result.x[1])"
   ]
  },
  {
   "cell_type": "code",
   "execution_count": 7,
   "metadata": {},
   "outputs": [
    {
     "name": "stdout",
     "output_type": "stream",
     "text": [
      "x <= 8:\n",
      "Objective value: 139.0 with pair (x, y) = 8.0 0.25\n",
      "x >= 9:\n",
      "[infeasible]\n"
     ]
    }
   ],
   "source": [
    "result_sub1 = linprog(c, A_ub=A + [[1, 0]], b_ub=b + [8], bounds=[x_bounds, y_bounds], method='highs')\n",
    "max_value_sub1 = -result_sub1.fun if result_sub1.success else None\n",
    "solution_sub1 = result_sub1.x if result_sub1.success else None\n",
    "\n",
    "print(\"x <= 8:\")\n",
    "if max_value_sub1 != None:\n",
    "    print(\"Objective value:\", max_value_sub1, \"with pair (x, y) =\", solution_sub1[0], solution_sub1[1])\n",
    "else:\n",
    "    print(\"[infeasible]\")\n",
    "\n",
    "result_sub2 = linprog(c, A_ub=A + [[-1, 0]], b_ub=b + [-9], bounds=[x_bounds, y_bounds], method='highs')\n",
    "max_value_sub2 = -result_sub2.fun if result_sub2.success else None\n",
    "solution_sub2 = result_sub2.x if result_sub2.success else None\n",
    "\n",
    "print(\"x >= 9:\")\n",
    "if max_value_sub2 != None:\n",
    "    print(\"Objective value:\", max_value_sub2, \"with pair (x, y) =\", solution_sub2[0], solution_sub2[1])\n",
    "else:\n",
    "    print(\"[infeasible]\")"
   ]
  },
  {
   "cell_type": "code",
   "execution_count": 8,
   "metadata": {},
   "outputs": [
    {
     "name": "stdout",
     "output_type": "stream",
     "text": [
      "x <= 8 and y <= 0:\n",
      "Objective value: 136.0 with pair (x, y) = 8.0 -0.0\n",
      "x <= 8 and y >= 1:\n",
      "Objective value: 131.0 with pair (x, y) = 7.0 1.0\n"
     ]
    }
   ],
   "source": [
    "result_sub1_y1 = linprog(c, A_ub=A + [[1, 0], [0, 1]], b_ub=b + [8, 0], bounds=[x_bounds, y_bounds], method='highs')\n",
    "max_value_sub1_y1 = -result_sub1_y1.fun if result_sub1_y1.success else None\n",
    "solution_sub1_y1 = result_sub1_y1.x if result_sub1_y1.success else None\n",
    "\n",
    "print(\"x <= 8 and y <= 0:\")\n",
    "if max_value_sub1_y1 != None:\n",
    "    print(\"Objective value:\", max_value_sub1_y1, \"with pair (x, y) =\", solution_sub1_y1[0], solution_sub1_y1[1])\n",
    "else:\n",
    "    print(\"[infeasible]\")\n",
    "\n",
    "result_sub1_y2 = linprog(c, A_ub=A + [[1, 0], [0, -1]], b_ub=b + [8, -1], bounds=[x_bounds, y_bounds], method='highs')\n",
    "max_value_sub1_y2 = -result_sub1_y2.fun if result_sub1_y2.success else None\n",
    "solution_sub1_y2 = result_sub1_y2.x if result_sub1_y2.success else None\n",
    "\n",
    "print(\"x <= 8 and y >= 1:\")\n",
    "if max_value_sub1_y1 != None:\n",
    "    print(\"Objective value:\", max_value_sub1_y2, \"with pair (x, y) =\", solution_sub1_y2[0], solution_sub1_y2[1])\n",
    "else:\n",
    "    print(\"[infeasible]\")"
   ]
  }
 ],
 "metadata": {
  "kernelspec": {
   "display_name": "Python 3",
   "language": "python",
   "name": "python3"
  },
  "language_info": {
   "codemirror_mode": {
    "name": "ipython",
    "version": 3
   },
   "file_extension": ".py",
   "mimetype": "text/x-python",
   "name": "python",
   "nbconvert_exporter": "python",
   "pygments_lexer": "ipython3",
   "version": "3.10.8"
  }
 },
 "nbformat": 4,
 "nbformat_minor": 2
}
