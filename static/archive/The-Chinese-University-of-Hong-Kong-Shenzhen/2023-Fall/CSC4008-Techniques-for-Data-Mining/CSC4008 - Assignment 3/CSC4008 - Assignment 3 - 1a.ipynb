{
  "nbformat": 4,
  "nbformat_minor": 0,
  "metadata": {
    "colab": {
      "provenance": []
    },
    "kernelspec": {
      "name": "python3",
      "display_name": "Python 3"
    },
    "language_info": {
      "name": "python"
    }
  },
  "cells": [
    {
      "cell_type": "code",
      "execution_count": 25,
      "metadata": {
        "colab": {
          "base_uri": "https://localhost:8080/"
        },
        "id": "HoNQbCG8VaZF",
        "outputId": "05970f77-dee5-4e1a-8842-0d59a02778f4"
      },
      "outputs": [
        {
          "output_type": "stream",
          "name": "stdout",
          "text": [
            "Requirement already satisfied: pyspark in /usr/local/lib/python3.10/dist-packages (3.5.0)\n",
            "Requirement already satisfied: py4j==0.10.9.7 in /usr/local/lib/python3.10/dist-packages (from pyspark) (0.10.9.7)\n"
          ]
        }
      ],
      "source": [
        "pip install pyspark"
      ]
    },
    {
      "cell_type": "code",
      "source": [
        "from pyspark import SparkContext\n",
        "from pyspark import SparkConf"
      ],
      "metadata": {
        "id": "GbCAS0_6WAS7"
      },
      "execution_count": 26,
      "outputs": []
    },
    {
      "cell_type": "code",
      "source": [
        "conf = SparkConf().setAppName(\"PageRank\")\n",
        "sc = SparkContext.getOrCreate()"
      ],
      "metadata": {
        "id": "3Wfh_FFJWMld"
      },
      "execution_count": 41,
      "outputs": []
    },
    {
      "cell_type": "code",
      "source": [
        "edges = sc.textFile(\"drive/MyDrive/A3-data/graph-small.txt\")\n",
        "\n",
        "def parse_edge(edge):\n",
        "    nodes = edge.split(\"\\t\")\n",
        "    return (int(nodes[0]), int(nodes[1]))\n",
        "\n",
        "edges = edges.map(parse_edge).distinct()\n",
        "n = edges.flatMap(lambda edge: edge).distinct().count()\n",
        "\n",
        "edges = edges.groupByKey().cache()\n",
        "ranks = sc.parallelize([(i, 1.0 / n) for i in range(1, n + 1)])\n",
        "\n",
        "def compute_contribs(neighbors, rank):\n",
        "    num_neighbors = len(neighbors)\n",
        "    for neighbor in neighbors:\n",
        "        yield (neighbor, rank / num_neighbors)\n",
        "\n",
        "b = 0.8\n",
        "iterations = 40\n",
        "\n",
        "for iteration in range(iterations):\n",
        "    contribs = edges.join(ranks).flatMap(\n",
        "        lambda edge_rank: compute_contribs(edge_rank[1][0], edge_rank[1][1])\n",
        "    )\n",
        "\n",
        "    ranks = contribs.reduceByKey(lambda x, y: x + y).mapValues(lambda contrib: (1 - b) / n + b * contrib)\n",
        "\n",
        "final_ranks = ranks.collect()\n",
        "final_ranks.sort(key=lambda x: x[1], reverse=True)\n",
        "\n",
        "print(\"Top 5 nodes by PageRank:\")\n",
        "for i in range(5):\n",
        "    print(f\"Node {final_ranks[i][0]} has a PageRank of {final_ranks[i][1]}\")\n",
        "\n",
        "print(\"Bottom 5 nodes by PageRank:\")\n",
        "for i in range(1, 6):\n",
        "    print(f\"Node {final_ranks[-i][0]} has a PageRank of {final_ranks[-i][1]}\")"
      ],
      "metadata": {
        "id": "K4VlumrfWTnO",
        "colab": {
          "base_uri": "https://localhost:8080/"
        },
        "outputId": "f30e4615-7068-44ea-c220-714184800ca4"
      },
      "execution_count": 50,
      "outputs": [
        {
          "output_type": "stream",
          "name": "stdout",
          "text": [
            "Top 5 nodes by PageRank:\n",
            "Node 53 has a PageRank of 0.03573120223267161\n",
            "Node 14 has a PageRank of 0.03417090697259137\n",
            "Node 40 has a PageRank of 0.033630087189743904\n",
            "Node 1 has a PageRank of 0.03000597947978861\n",
            "Node 27 has a PageRank of 0.029720144201405382\n",
            "Bottom 5 nodes by PageRank:\n",
            "Node 85 has a PageRank of 0.003409694077402821\n",
            "Node 59 has a PageRank of 0.0036698606601272845\n",
            "Node 81 has a PageRank of 0.0036953517493609916\n",
            "Node 37 has a PageRank of 0.0038082042916114515\n",
            "Node 89 has a PageRank of 0.003922466019802269\n"
          ]
        }
      ]
    },
    {
      "cell_type": "code",
      "source": [
        "edges = sc.textFile(\"drive/MyDrive/A3-data/graph-full.txt\")\n",
        "\n",
        "def parse_edge(edge):\n",
        "    nodes = edge.split(\"\\t\")\n",
        "    return (int(nodes[0]), int(nodes[1]))\n",
        "\n",
        "edges = edges.map(parse_edge).distinct()\n",
        "n = edges.flatMap(lambda edge: edge).distinct().count()\n",
        "\n",
        "edges = edges.groupByKey().cache()\n",
        "ranks = sc.parallelize([(i, 1.0 / n) for i in range(1, n + 1)])\n",
        "\n",
        "def compute_contribs(neighbors, rank):\n",
        "    num_neighbors = len(neighbors)\n",
        "    for neighbor in neighbors:\n",
        "        yield (neighbor, rank / num_neighbors)\n",
        "\n",
        "b = 0.8\n",
        "iterations = 40\n",
        "\n",
        "for iteration in range(iterations):\n",
        "    contribs = edges.join(ranks).flatMap(\n",
        "        lambda edge_rank: compute_contribs(edge_rank[1][0], edge_rank[1][1])\n",
        "    )\n",
        "\n",
        "    ranks = contribs.reduceByKey(lambda x, y: x + y).mapValues(lambda contrib: (1 - b) / n + b * contrib)\n",
        "\n",
        "final_ranks = ranks.collect()\n",
        "final_ranks.sort(key=lambda x: x[1], reverse=True)\n",
        "\n",
        "print(\"Top 5 nodes by PageRank:\")\n",
        "for i in range(5):\n",
        "    print(f\"Node {final_ranks[i][0]} has a PageRank of {final_ranks[i][1]}\")\n",
        "\n",
        "print(\"Bottom 5 nodes by PageRank:\")\n",
        "for i in range(1, 6):\n",
        "    print(f\"Node {final_ranks[-i][0]} has a PageRank of {final_ranks[-i][1]}\")"
      ],
      "metadata": {
        "colab": {
          "base_uri": "https://localhost:8080/"
        },
        "id": "BGGRFZVbhZ-6",
        "outputId": "595f198d-f7a0-419d-dd99-54ea48072c5c"
      },
      "execution_count": 51,
      "outputs": [
        {
          "output_type": "stream",
          "name": "stdout",
          "text": [
            "Top 5 nodes by PageRank:\n",
            "Node 263 has a PageRank of 0.002020291181518219\n",
            "Node 537 has a PageRank of 0.0019433415714531492\n",
            "Node 965 has a PageRank of 0.0019254478071662631\n",
            "Node 243 has a PageRank of 0.001852634016241731\n",
            "Node 285 has a PageRank of 0.0018273721700645144\n",
            "Bottom 5 nodes by PageRank:\n",
            "Node 558 has a PageRank of 0.0003286018525215297\n",
            "Node 93 has a PageRank of 0.0003513568937516577\n",
            "Node 62 has a PageRank of 0.00035314810510596274\n",
            "Node 424 has a PageRank of 0.00035481538649301454\n",
            "Node 408 has a PageRank of 0.00038779848719291705\n"
          ]
        }
      ]
    }
  ]
}