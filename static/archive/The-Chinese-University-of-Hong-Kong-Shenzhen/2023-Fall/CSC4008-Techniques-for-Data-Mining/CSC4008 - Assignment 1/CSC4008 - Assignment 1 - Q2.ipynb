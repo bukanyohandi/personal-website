{
  "nbformat": 4,
  "nbformat_minor": 0,
  "metadata": {
    "colab": {
      "provenance": []
    },
    "kernelspec": {
      "name": "python3",
      "display_name": "Python 3"
    },
    "language_info": {
      "name": "python"
    }
  },
  "cells": [
    {
      "cell_type": "code",
      "execution_count": 48,
      "metadata": {
        "colab": {
          "base_uri": "https://localhost:8080/"
        },
        "id": "2IfTFvNFjjpt",
        "outputId": "46c6b716-ab67-4bf3-d159-07c8debe924e"
      },
      "outputs": [
        {
          "output_type": "stream",
          "name": "stdout",
          "text": [
            "Requirement already satisfied: pyspark in /usr/local/lib/python3.10/dist-packages (3.5.0)\n",
            "Requirement already satisfied: py4j==0.10.9.7 in /usr/local/lib/python3.10/dist-packages (from pyspark) (0.10.9.7)\n"
          ]
        }
      ],
      "source": [
        "pip install pyspark"
      ]
    },
    {
      "cell_type": "code",
      "source": [
        "from pyspark import SparkContext\n",
        "from pyspark import SparkConf"
      ],
      "metadata": {
        "id": "lH-A-oH3j2tW"
      },
      "execution_count": 49,
      "outputs": []
    },
    {
      "cell_type": "code",
      "source": [
        "conf = SparkConf().setAppName(\"PeopleYouMightKnow\")\n",
        "sc = SparkContext.getOrCreate()"
      ],
      "metadata": {
        "id": "eoNCDbXtpsSU"
      },
      "execution_count": 50,
      "outputs": []
    },
    {
      "cell_type": "code",
      "source": [
        "edges = sc.textFile(\"drive/MyDrive/Colab Notebooks/data-Q2/ego-facebook.txt\")\n",
        "\n",
        "def parse_node(edge):\n",
        "    nodes = edge.split(\" \")\n",
        "    return (int(nodes[0]), int(nodes[0])), (int(nodes[1]), int(nodes[1]))\n",
        "\n",
        "def parse_edge(edge):\n",
        "    nodes = edge.split(\" \")\n",
        "    return (int(nodes[0]), int(nodes[1])), (int(nodes[1]), int(nodes[0]))\n",
        "\n",
        "def parse_second_degree_edge(x):\n",
        "    return (x[1][0], x[1][1]), (x[1][1], x[1][0])\n",
        "\n",
        "self_nodes = edges.flatMap(lambda edge: parse_node(edge)).distinct()\n",
        "friendships = edges.flatMap(lambda edge: parse_edge(edge)).distinct()\n",
        "\n",
        "potential_second_degree = friendships.map(lambda x: (x[1], x[0])).join(friendships).flatMap(lambda x: parse_second_degree_edge(x))\n",
        "second_degree_friendships = ((potential_second_degree.subtract(friendships)).subtract(self_nodes)).distinct()\n",
        "\n",
        "second_degree_friendships_set = set(second_degree_friendships.collect())"
      ],
      "metadata": {
        "id": "2zmEpPiplD-6"
      },
      "execution_count": 51,
      "outputs": []
    },
    {
      "cell_type": "code",
      "source": [
        "def top_10_recommendations(pair):\n",
        "    user, recommendations = pair\n",
        "    return (user, [rec[0] for rec in sorted(recommendations, key=lambda x: (-x[1], x[0]))[:10]])\n",
        "\n",
        "mutual_friends = (friendships.map(lambda x: (x[1], x[0])).join(friendships.map(lambda x: (x[0], x[1])))).map(lambda x: ((x[1][0], x[1][1]), 1)).reduceByKey(lambda a, b: a + b)\n",
        "filtered_mutual_friends = mutual_friends.filter(lambda x: x[0] in second_degree_friendships_set)\n",
        "\n",
        "recommendations = filtered_mutual_friends.map(lambda x: (x[0][0], (x[0][1], x[1]))).groupByKey().map(top_10_recommendations)\n",
        "\n",
        "users = [10, 152, 288, 603, 714, 1525, 2434, 2681]\n",
        "for user in users:\n",
        "    user_recommendations = recommendations.filter(lambda x: x[0] == user).collect()\n",
        "    print(f\"Recommendations for {user}: {user_recommendations[0][1] if user_recommendations else '[]'}\")\n"
      ],
      "metadata": {
        "colab": {
          "base_uri": "https://localhost:8080/"
        },
        "id": "N0cpfkzcP2s0",
        "outputId": "bbc26973-f8f0-459d-d842-4e9d2c5a7e1b"
      },
      "execution_count": 52,
      "outputs": [
        {
          "output_type": "stream",
          "name": "stdout",
          "text": [
            "Recommendations for 10: [2, 3, 4, 5, 6, 7, 8, 9, 11, 12]\n",
            "Recommendations for 152: [2, 3, 4, 5, 6, 7, 8, 9, 10, 11]\n",
            "Recommendations for 288: [71, 1525, 69, 90, 217, 2348, 2351, 2352, 2354, 2356]\n",
            "Recommendations for 603: [1, 289, 290, 291, 292, 293, 294, 295, 296, 297]\n",
            "Recommendations for 714: [1, 712, 713, 715, 717, 718, 1525, 90, 217, 247]\n",
            "Recommendations for 1525: [288, 1, 710, 714, 603]\n",
            "Recommendations for 2434: [71, 288, 711, 716, 719, 720, 2348, 2351, 2352, 2354]\n",
            "Recommendations for 2681: [71, 288, 710, 711, 716, 719, 720, 721, 722, 2348]\n"
          ]
        }
      ]
    }
  ]
}