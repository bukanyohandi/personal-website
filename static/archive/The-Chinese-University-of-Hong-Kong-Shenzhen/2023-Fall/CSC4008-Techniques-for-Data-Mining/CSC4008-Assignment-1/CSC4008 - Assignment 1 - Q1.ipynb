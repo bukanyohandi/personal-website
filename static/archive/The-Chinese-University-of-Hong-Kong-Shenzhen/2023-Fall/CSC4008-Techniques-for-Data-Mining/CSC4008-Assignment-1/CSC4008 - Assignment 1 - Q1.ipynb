{
  "nbformat": 4,
  "nbformat_minor": 0,
  "metadata": {
    "colab": {
      "provenance": []
    },
    "kernelspec": {
      "name": "python3",
      "display_name": "Python 3"
    },
    "language_info": {
      "name": "python"
    }
  },
  "cells": [
    {
      "cell_type": "code",
      "source": [
        "pip install pyspark"
      ],
      "metadata": {
        "colab": {
          "base_uri": "https://localhost:8080/"
        },
        "id": "pPr4aqhZRIQB",
        "outputId": "fb8b23e2-3bc2-43f7-89fd-962a6a368456"
      },
      "execution_count": 32,
      "outputs": [
        {
          "output_type": "stream",
          "name": "stdout",
          "text": [
            "Requirement already satisfied: pyspark in /usr/local/lib/python3.10/dist-packages (3.5.0)\n",
            "Requirement already satisfied: py4j==0.10.9.7 in /usr/local/lib/python3.10/dist-packages (from pyspark) (0.10.9.7)\n"
          ]
        }
      ]
    },
    {
      "cell_type": "code",
      "execution_count": 37,
      "metadata": {
        "id": "G3sYhtJHPwyD"
      },
      "outputs": [],
      "source": [
        "from pyspark.sql import SparkSession\n",
        "from pyspark.sql.functions import sum\n",
        "from pyspark.sql.functions import avg"
      ]
    },
    {
      "cell_type": "code",
      "source": [
        "spark = SparkSession.builder.appName(\"Sales Analysis\").getOrCreate()\n",
        "\n",
        "sales = spark.read.csv(\"drive/MyDrive/Colab Notebooks/data-Q1/sales-data-set.csv\", header=True, inferSchema=True)\n",
        "stores = spark.read.csv(\"drive/MyDrive/Colab Notebooks/data-Q1/stores-data-set.csv\", header=True, inferSchema=True)\n",
        "\n",
        "data = sales.join(stores, \"Store\")"
      ],
      "metadata": {
        "id": "-96U7nszSWay"
      },
      "execution_count": 38,
      "outputs": []
    },
    {
      "cell_type": "code",
      "source": [
        "# (a)\n",
        "sales_per_type = (data.groupBy(\"Type\").agg(sum(\"Weekly_Sales\").alias(\"Total Sales\")).orderBy(\"Type\"))\n",
        "sales_per_type.show()"
      ],
      "metadata": {
        "colab": {
          "base_uri": "https://localhost:8080/"
        },
        "id": "jGSA1nGFPz-I",
        "outputId": "fbdd08e7-4940-4128-87a5-94514ed8e32b"
      },
      "execution_count": 39,
      "outputs": [
        {
          "output_type": "stream",
          "name": "stdout",
          "text": [
            "+----+--------------------+\n",
            "|Type|         Total Sales|\n",
            "+----+--------------------+\n",
            "|   A| 4.331014722750015E9|\n",
            "|   B|2.0007007368200486E9|\n",
            "|   C| 4.055035275399986E8|\n",
            "+----+--------------------+\n",
            "\n"
          ]
        }
      ]
    },
    {
      "cell_type": "code",
      "source": [
        "# (b)\n",
        "average_sales = (data.groupBy(\"IsHoliday\").agg(avg(\"Weekly_Sales\").alias(\"Average Sales\")).orderBy(\"IsHoliday\"))\n",
        "average_sales.show()\n",
        "\n",
        "average_sales_on_holiday = {row['IsHoliday']: row['Average Sales'] for row in average_sales.collect()}\n",
        "\n",
        "print(\"Sales are\" +\n",
        "      (\" \" if average_sales_on_holiday[True] > average_sales_on_holiday[False] else \" not \") +\n",
        "      \"generally higher during holidays.\")"
      ],
      "metadata": {
        "colab": {
          "base_uri": "https://localhost:8080/"
        },
        "id": "BKCdfdTqWlLU",
        "outputId": "c0f39620-24c8-4997-e7e9-4820e0c33149"
      },
      "execution_count": 40,
      "outputs": [
        {
          "output_type": "stream",
          "name": "stdout",
          "text": [
            "+---------+------------------+\n",
            "|IsHoliday|     Average Sales|\n",
            "+---------+------------------+\n",
            "|    false|15901.445069008514|\n",
            "|     true| 17035.82318735042|\n",
            "+---------+------------------+\n",
            "\n",
            "Sales are generally higher during holidays.\n"
          ]
        }
      ]
    }
  ]
}